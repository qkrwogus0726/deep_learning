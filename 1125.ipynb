{
  "nbformat": 4,
  "nbformat_minor": 0,
  "metadata": {
    "colab": {
      "private_outputs": true,
      "provenance": [],
      "authorship_tag": "ABX9TyNdS/Z5a1eL5IgQUCoWsnEO"
    },
    "kernelspec": {
      "name": "python3",
      "display_name": "Python 3"
    },
    "language_info": {
      "name": "python"
    },
    "gpuClass": "standard",
    "accelerator": "GPU"
  },
  "cells": [
    {
      "cell_type": "code",
      "execution_count": null,
      "metadata": {
        "id": "FdEgvM3qndRo"
      },
      "outputs": [],
      "source": [
        "list1 = [1,2,3,4]\n",
        "\n",
        "print(list1[1:])\n",
        "print(list1[1:3])\n",
        "\n",
        "list1[0] = 'a'\n",
        "print(list1)\n",
        "print('\\n')\n",
        "\n",
        "tuple1 = (1,2,3,4)\n",
        "\n",
        "#tuple1[0] = 'a'\n",
        "print(tuple1)\n",
        "\n",
        "#tuple2[0] = tuple1[0] + tuple1[0]\n",
        "\n",
        "print('\\n')\n",
        "\n",
        "dict1 = {'age':22, '이름':'박재현'}\n",
        "\n",
        "print(dict1)\n",
        "print(type(dict1))\n",
        "\n",
        "print(dict1['age'])\n",
        "dict1['age'] = dict1['age'] +1\n",
        "print(dict1['age'])"
      ]
    }
  ]
}